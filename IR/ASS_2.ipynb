{
 "cells": [
  {
   "cell_type": "markdown",
   "id": "bda9413e",
   "metadata": {},
   "source": [
    "# 2. Implement a program for retrieval of documents using inverted files."
   ]
  },
  {
   "cell_type": "code",
   "execution_count": 16,
   "id": "dd42c6d0",
   "metadata": {},
   "outputs": [
    {
     "name": "stdout",
     "output_type": "stream",
     "text": [
      "Inverted Index:\n",
      "{\n",
      "    \"mango\": [\n",
      "        \"doc1\",\n",
      "        \"doc2\",\n",
      "        \"doc3\"\n",
      "    ],\n",
      "    \"apple\": [\n",
      "        \"doc1\",\n",
      "        \"doc4\"\n",
      "    ],\n",
      "    \"grapes\": [\n",
      "        \"doc1\",\n",
      "        \"doc3\",\n",
      "        \"doc4\"\n",
      "    ],\n",
      "    \"peas\": [\n",
      "        \"doc2\",\n",
      "        \"doc3\"\n",
      "    ]\n",
      "}\n",
      "\n",
      "Documents containing the query terms: ['mango', 'peas']\n",
      "{'doc1', 'doc3', 'doc2'}\n"
     ]
    }
   ],
   "source": [
    "import json\n",
    "\n",
    "# Step 1: Define documents\n",
    "docs = {\n",
    "    \"doc1\": [\"mango\", \"apple\", \"grapes\"],\n",
    "    \"doc2\": [\"peas\", \"mango\"],\n",
    "    \"doc3\": [\"mango\", \"grapes\", \"peas\"],\n",
    "    \"doc4\": [\"apple\", \"grapes\"]\n",
    "}\n",
    "\n",
    "# Step 2: Create the inverted index\n",
    "inverted_files = {}\n",
    "\n",
    "for doc, fruits in docs.items():\n",
    "    for fruit in fruits:\n",
    "        if fruit not in inverted_files:\n",
    "            inverted_files[fruit] = [doc]\n",
    "        else:\n",
    "            inverted_files[fruit].append(doc)\n",
    "\n",
    "print(\"Inverted Index:\")\n",
    "print(json.dumps(inverted_files, indent=4))\n",
    "\n",
    "# Step 3: Define a function for document retrieval\n",
    "def retrieve_documents(query_terms):\n",
    "    result_docs = set()\n",
    "    for term in query_terms:\n",
    "        if term in inverted_files:\n",
    "            result_docs.update(inverted_files[term])\n",
    "    return result_docs\n",
    "\n",
    "# Step 4: Query the inverted index\n",
    "query = [\"mango\",\"peas\"]\n",
    "retrieved_docs = retrieve_documents(query)\n",
    "\n",
    "print(\"\\nDocuments containing the query terms:\", query)\n",
    "print(retrieved_docs)\n"
   ]
  }
 ],
 "metadata": {
  "kernelspec": {
   "display_name": "Python 3 (ipykernel)",
   "language": "python",
   "name": "python3"
  },
  "language_info": {
   "codemirror_mode": {
    "name": "ipython",
    "version": 3
   },
   "file_extension": ".py",
   "mimetype": "text/x-python",
   "name": "python",
   "nbconvert_exporter": "python",
   "pygments_lexer": "ipython3",
   "version": "3.11.0"
  }
 },
 "nbformat": 4,
 "nbformat_minor": 5
}
