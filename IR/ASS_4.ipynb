{
 "cells": [
  {
   "cell_type": "markdown",
   "id": "b7ca96e9",
   "metadata": {},
   "source": [
    "## 4. Implement Page Rank Algorithm. (Use python or beautiful soup for implementation)."
   ]
  },
  {
   "cell_type": "code",
   "execution_count": 42,
   "id": "4b2ad7fb",
   "metadata": {},
   "outputs": [
    {
     "name": "stdout",
     "output_type": "stream",
     "text": [
      "Page A has rank: 0.3360\n",
      "Page B has rank: 0.1728\n",
      "Page C has rank: 0.3450\n",
      "Page D has rank: 0.1162\n",
      "Page E has rank: 0.0300\n"
     ]
    }
   ],
   "source": [
    "import numpy as np\n",
    "\n",
    "# Define links and parameters\n",
    "links = {'A': ['B', 'C'], 'B': ['C', 'D'], 'C': ['A'], 'D': ['C'], 'E': ['A', 'D']}\n",
    "damping_factor, num_pages = 0.85, len(links)\n",
    "ranks = {page: 1.0 / num_pages for page in links}\n",
    "\n",
    "# Calculate PageRank\n",
    "for _ in range(100):  # Iterate 100 times\n",
    "    ranks = {page: (1 - damping_factor) / num_pages + damping_factor * sum(\n",
    "             ranks[link] / len(links[link]) for link in links if page in links[link])\n",
    "             for page in ranks}\n",
    "\n",
    "# Display results\n",
    "for page, rank in ranks.items():\n",
    "    print(f'Page {page} has rank: {rank:.4f}')\n"
   ]
  }
 ],
 "metadata": {
  "kernelspec": {
   "display_name": "Python 3 (ipykernel)",
   "language": "python",
   "name": "python3"
  },
  "language_info": {
   "codemirror_mode": {
    "name": "ipython",
    "version": 3
   },
   "file_extension": ".py",
   "mimetype": "text/x-python",
   "name": "python",
   "nbconvert_exporter": "python",
   "pygments_lexer": "ipython3",
   "version": "3.11.0"
  }
 },
 "nbformat": 4,
 "nbformat_minor": 5
}
