{
 "cells": [
  {
   "cell_type": "markdown",
   "id": "08e86d1b",
   "metadata": {},
   "source": [
    "# 1. Write a program for pre-processing of a text document such as stop word removal, stemming. "
   ]
  },
  {
   "cell_type": "code",
   "execution_count": 1,
   "id": "3c932e24",
   "metadata": {},
   "outputs": [],
   "source": [
    "text = 'The quick brown fox jumps over the lazy dog While the dog sleeps the fox quickly runs to the nearby forest'"
   ]
  },
  {
   "cell_type": "markdown",
   "id": "229f3ac6",
   "metadata": {},
   "source": [
    "Stop Words Removal"
   ]
  },
  {
   "cell_type": "code",
   "execution_count": 2,
   "id": "05a98d76",
   "metadata": {},
   "outputs": [],
   "source": [
    "from nltk.corpus import stopwords\n",
    "StopWords = stopwords.words('english')"
   ]
  },
  {
   "cell_type": "code",
   "execution_count": 3,
   "id": "8a657a01",
   "metadata": {},
   "outputs": [
    {
     "data": {
      "text/plain": [
       "'quick brown fox jumps lazy dog dog sleeps fox quickly runs nearby forest'"
      ]
     },
     "execution_count": 3,
     "metadata": {},
     "output_type": "execute_result"
    }
   ],
   "source": [
    "text=text.lower()\n",
    "text_without_sw= ' '.join([word for word in text.split(' ') if word not in StopWords])\n",
    "text_without_sw"
   ]
  },
  {
   "cell_type": "markdown",
   "id": "789737ed",
   "metadata": {},
   "source": [
    "Stemming"
   ]
  },
  {
   "cell_type": "code",
   "execution_count": 8,
   "id": "2ae2c5a3",
   "metadata": {},
   "outputs": [
    {
     "data": {
      "text/plain": [
       "'quick brown fox jump lazi dog dog sleep fox quickli run nearbi forest'"
      ]
     },
     "execution_count": 8,
     "metadata": {},
     "output_type": "execute_result"
    }
   ],
   "source": [
    "from nltk import PorterStemmer\n",
    "\n",
    "stemmed_text=' '.join([PorterStemmer().stem(word) for word in text_without_sw.split(' ')])\n",
    "stemmed_text"
   ]
  },
  {
   "cell_type": "code",
   "execution_count": null,
   "id": "773b4e5c",
   "metadata": {},
   "outputs": [],
   "source": []
  }
 ],
 "metadata": {
  "kernelspec": {
   "display_name": "Python 3 (ipykernel)",
   "language": "python",
   "name": "python3"
  },
  "language_info": {
   "codemirror_mode": {
    "name": "ipython",
    "version": 3
   },
   "file_extension": ".py",
   "mimetype": "text/x-python",
   "name": "python",
   "nbconvert_exporter": "python",
   "pygments_lexer": "ipython3",
   "version": "3.11.0"
  }
 },
 "nbformat": 4,
 "nbformat_minor": 5
}
